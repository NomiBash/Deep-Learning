{
 "cells": [
  {
   "cell_type": "markdown",
   "metadata": {
    "id": "MukRTx7UN-37"
   },
   "source": [
    "This ICP shows how to classify images of flowers. It creates an image classifier using a keras.Sequential model, and loads data using preprocessing.image_dataset_from_directory. "
   ]
  },
  {
   "cell_type": "code",
   "execution_count": 1,
   "metadata": {
    "id": "GtjMvcdmx2nQ"
   },
   "outputs": [],
   "source": [
    "\n",
    "import matplotlib.pyplot as plt\n",
    "import numpy as np\n",
    "import os\n",
    "import PIL\n",
    "import tensorflow as tf\n",
    "import PIL.Image\n",
    "from tensorflow import keras\n",
    "from tensorflow.keras import layers\n",
    "from tensorflow.keras.models import Sequential"
   ]
  },
  {
   "cell_type": "code",
   "execution_count": 2,
   "metadata": {
    "id": "xh1Gq3-kyOs-"
   },
   "outputs": [],
   "source": [
    "import pathlib\n",
    "dataset_url = \"https://storage.googleapis.com/download.tensorflow.org/example_images/flower_photos.tgz\"\n",
    "data_dir = tf.keras.utils.get_file('flower_photos', origin=dataset_url, untar=True)\n",
    "data_dir = pathlib.Path(data_dir)"
   ]
  },
  {
   "cell_type": "code",
   "execution_count": 3,
   "metadata": {
    "colab": {
     "base_uri": "https://localhost:8080/"
    },
    "id": "oGvmIFgWyU13",
    "outputId": "d67c28d1-5ae7-4bd5-f4a6-16e14fa2be31"
   },
   "outputs": [
    {
     "name": "stdout",
     "output_type": "stream",
     "text": [
      "3670\n"
     ]
    }
   ],
   "source": [
    "image_count = len(list(data_dir.glob('*/*.jpg')))\n",
    "print(image_count)"
   ]
  },
  {
   "cell_type": "code",
   "execution_count": 4,
   "metadata": {
    "id": "1jsiTFvsyrht"
   },
   "outputs": [],
   "source": [
    "batch_size = 32\n",
    "img_height = 180\n",
    "img_width = 180"
   ]
  },
  {
   "cell_type": "markdown",
   "metadata": {
    "id": "yAS2sUsAjYDv"
   },
   "source": [
    "Load data set and spliting them in train and validation sets"
   ]
  },
  {
   "cell_type": "code",
   "execution_count": 5,
   "metadata": {
    "colab": {
     "base_uri": "https://localhost:8080/"
    },
    "id": "YvSn1vlbyxy_",
    "outputId": "fb222edc-60a6-4532-c223-5e649fe7fd47"
   },
   "outputs": [
    {
     "name": "stdout",
     "output_type": "stream",
     "text": [
      "Found 3670 files belonging to 5 classes.\n",
      "Using 2936 files for training.\n"
     ]
    }
   ],
   "source": [
    "train_ds = tf.keras.preprocessing.image_dataset_from_directory(\n",
    "  data_dir,\n",
    "  validation_split=0.2,\n",
    "  subset=\"training\",\n",
    "  seed=123,\n",
    "  image_size=(img_height, img_width),\n",
    "  batch_size=batch_size)"
   ]
  },
  {
   "cell_type": "code",
   "execution_count": 6,
   "metadata": {
    "colab": {
     "base_uri": "https://localhost:8080/"
    },
    "id": "361TmRZXR-Fx",
    "outputId": "9062eb20-bcdf-4c50-9539-0cd12c31094f"
   },
   "outputs": [
    {
     "data": {
      "text/plain": [
       "tensorflow.python.data.ops.dataset_ops.BatchDataset"
      ]
     },
     "execution_count": 6,
     "metadata": {},
     "output_type": "execute_result"
    }
   ],
   "source": [
    "type(train_ds)"
   ]
  },
  {
   "cell_type": "code",
   "execution_count": 7,
   "metadata": {
    "colab": {
     "base_uri": "https://localhost:8080/"
    },
    "id": "MpiG_fGXy5Zb",
    "outputId": "af4d09cb-47c8-4c54-93ab-dd7ef0facabc"
   },
   "outputs": [
    {
     "name": "stdout",
     "output_type": "stream",
     "text": [
      "Found 3670 files belonging to 5 classes.\n",
      "Using 734 files for validation.\n"
     ]
    }
   ],
   "source": [
    "val_ds = tf.keras.preprocessing.image_dataset_from_directory(\n",
    "  data_dir,\n",
    "  validation_split=0.2,\n",
    "  subset=\"validation\",\n",
    "  seed=123,\n",
    "  image_size=(img_height, img_width),\n",
    "  batch_size=batch_size)"
   ]
  },
  {
   "cell_type": "markdown",
   "metadata": {
    "id": "gJEtoXYLPx2X"
   },
   "source": [
    "listing the classes in the data set"
   ]
  },
  {
   "cell_type": "code",
   "execution_count": 8,
   "metadata": {
    "colab": {
     "base_uri": "https://localhost:8080/"
    },
    "id": "AFHObXaWy-ao",
    "outputId": "40514c7f-d18d-48df-9977-da08b6b3efc9"
   },
   "outputs": [
    {
     "name": "stdout",
     "output_type": "stream",
     "text": [
      "['daisy', 'dandelion', 'roses', 'sunflowers', 'tulips']\n"
     ]
    }
   ],
   "source": [
    "class_names = train_ds.class_names\n",
    "print(class_names)"
   ]
  },
  {
   "cell_type": "code",
   "execution_count": 9,
   "metadata": {
    "colab": {
     "base_uri": "https://localhost:8080/"
    },
    "id": "_iH6ZSWhiXMX",
    "outputId": "555291d4-79fd-4913-c729-68130a3493d5"
   },
   "outputs": [
    {
     "name": "stdout",
     "output_type": "stream",
     "text": [
      "tf.Tensor(\n",
      "[[[[2.55000000e+02 2.55000000e+02 2.55000000e+02]\n",
      "   [2.55000000e+02 2.55000000e+02 2.55000000e+02]\n",
      "   [2.55000000e+02 2.55000000e+02 2.55000000e+02]\n",
      "   ...\n",
      "   [2.55000000e+02 2.55000000e+02 2.55000000e+02]\n",
      "   [2.55000000e+02 2.55000000e+02 2.55000000e+02]\n",
      "   [2.55000000e+02 2.55000000e+02 2.55000000e+02]]\n",
      "\n",
      "  [[2.55000000e+02 2.55000000e+02 2.55000000e+02]\n",
      "   [2.55000000e+02 2.55000000e+02 2.55000000e+02]\n",
      "   [2.55000000e+02 2.55000000e+02 2.55000000e+02]\n",
      "   ...\n",
      "   [2.55000000e+02 2.55000000e+02 2.55000000e+02]\n",
      "   [2.55000000e+02 2.55000000e+02 2.55000000e+02]\n",
      "   [2.55000000e+02 2.55000000e+02 2.55000000e+02]]\n",
      "\n",
      "  [[2.55000000e+02 2.55000000e+02 2.55000000e+02]\n",
      "   [2.55000000e+02 2.55000000e+02 2.55000000e+02]\n",
      "   [2.55000000e+02 2.55000000e+02 2.55000000e+02]\n",
      "   ...\n",
      "   [2.55000000e+02 2.55000000e+02 2.55000000e+02]\n",
      "   [2.55000000e+02 2.55000000e+02 2.55000000e+02]\n",
      "   [2.55000000e+02 2.55000000e+02 2.55000000e+02]]\n",
      "\n",
      "  ...\n",
      "\n",
      "  [[2.55000000e+02 2.55000000e+02 2.55000000e+02]\n",
      "   [2.55000000e+02 2.55000000e+02 2.55000000e+02]\n",
      "   [2.55000000e+02 2.55000000e+02 2.55000000e+02]\n",
      "   ...\n",
      "   [2.55000000e+02 2.55000000e+02 2.55000000e+02]\n",
      "   [2.55000000e+02 2.55000000e+02 2.55000000e+02]\n",
      "   [2.55000000e+02 2.55000000e+02 2.55000000e+02]]\n",
      "\n",
      "  [[2.55000000e+02 2.55000000e+02 2.55000000e+02]\n",
      "   [2.55000000e+02 2.55000000e+02 2.55000000e+02]\n",
      "   [2.55000000e+02 2.55000000e+02 2.55000000e+02]\n",
      "   ...\n",
      "   [2.55000000e+02 2.55000000e+02 2.55000000e+02]\n",
      "   [2.55000000e+02 2.55000000e+02 2.55000000e+02]\n",
      "   [2.55000000e+02 2.55000000e+02 2.55000000e+02]]\n",
      "\n",
      "  [[2.55000000e+02 2.55000000e+02 2.55000000e+02]\n",
      "   [2.55000000e+02 2.55000000e+02 2.55000000e+02]\n",
      "   [2.55000000e+02 2.55000000e+02 2.55000000e+02]\n",
      "   ...\n",
      "   [2.55000000e+02 2.55000000e+02 2.55000000e+02]\n",
      "   [2.55000000e+02 2.55000000e+02 2.55000000e+02]\n",
      "   [2.55000000e+02 2.55000000e+02 2.55000000e+02]]]\n",
      "\n",
      "\n",
      " [[[3.21666679e+01 6.61666641e+01 1.76166672e+02]\n",
      "   [3.21666679e+01 6.61666641e+01 1.76166672e+02]\n",
      "   [3.21666679e+01 6.61666641e+01 1.76166672e+02]\n",
      "   ...\n",
      "   [2.83333340e+01 6.13333321e+01 1.76333328e+02]\n",
      "   [2.83333340e+01 6.13333321e+01 1.76000000e+02]\n",
      "   [2.75000000e+01 6.05000000e+01 1.73500000e+02]]\n",
      "\n",
      "  [[3.40000000e+01 6.80000000e+01 1.78000000e+02]\n",
      "   [3.40000000e+01 6.80000000e+01 1.78000000e+02]\n",
      "   [3.40000000e+01 6.80000000e+01 1.78000000e+02]\n",
      "   ...\n",
      "   [3.00000000e+01 6.30000000e+01 1.77000000e+02]\n",
      "   [3.00000000e+01 6.30000000e+01 1.76000000e+02]\n",
      "   [3.00000000e+01 6.30000000e+01 1.76000000e+02]]\n",
      "\n",
      "  [[3.58333321e+01 6.98333359e+01 1.78166672e+02]\n",
      "   [3.58333321e+01 6.98333359e+01 1.78166672e+02]\n",
      "   [3.58333321e+01 6.98333359e+01 1.78166672e+02]\n",
      "   ...\n",
      "   [3.08333340e+01 6.38333321e+01 1.76833328e+02]\n",
      "   [3.00000000e+01 6.30000000e+01 1.76000000e+02]\n",
      "   [3.00000000e+01 6.30000000e+01 1.76000000e+02]]\n",
      "\n",
      "  ...\n",
      "\n",
      "  [[5.78333282e+01 5.01666718e+01 3.03333130e+01]\n",
      "   [1.01166672e+02 8.15000153e+01 7.50000305e+01]\n",
      "   [1.08333191e+02 8.29998779e+01 5.81665497e+01]\n",
      "   ...\n",
      "   [1.49000061e+02 1.29500137e+02 1.66667786e+01]\n",
      "   [1.66166611e+02 1.30666687e+02 6.49998474e+00]\n",
      "   [1.87833450e+02 1.46000183e+02 1.15001373e+01]]\n",
      "\n",
      "  [[4.90000000e+01 4.25000000e+01 2.10000000e+01]\n",
      "   [6.05000000e+01 4.40000000e+01 4.35000000e+01]\n",
      "   [6.95000000e+01 5.05000000e+01 2.70000000e+01]\n",
      "   ...\n",
      "   [1.48500000e+02 1.45000000e+02 3.05000000e+01]\n",
      "   [1.57000000e+02 1.40000000e+02 1.20000000e+01]\n",
      "   [1.97000000e+02 1.73500000e+02 3.40000000e+01]]\n",
      "\n",
      "  [[4.18333435e+01 3.40000000e+01 2.00000610e+01]\n",
      "   [3.23334961e+01 1.98335266e+01 2.86669312e+01]\n",
      "   [7.56669312e+01 6.21669617e+01 4.41670227e+01]\n",
      "   ...\n",
      "   [1.88000610e+02 1.85500580e+02 8.10006714e+01]\n",
      "   [1.55333313e+02 1.44333313e+02 2.66667480e+01]\n",
      "   [1.93666748e+02 1.81833466e+02 5.56669312e+01]]]\n",
      "\n",
      "\n",
      " [[[8.40000000e+01 1.37000000e+02 1.87000000e+02]\n",
      "   [8.50000000e+01 1.38000000e+02 1.88000000e+02]\n",
      "   [8.50000000e+01 1.38000000e+02 1.88000000e+02]\n",
      "   ...\n",
      "   [8.48333359e+01 1.30833328e+02 1.89833328e+02]\n",
      "   [8.40000000e+01 1.30000000e+02 1.89000000e+02]\n",
      "   [8.30000000e+01 1.29000000e+02 1.88000000e+02]]\n",
      "\n",
      "  [[8.40000000e+01 1.37000000e+02 1.87000000e+02]\n",
      "   [8.50000000e+01 1.38000000e+02 1.88000000e+02]\n",
      "   [8.55000000e+01 1.38500000e+02 1.88500000e+02]\n",
      "   ...\n",
      "   [8.40000000e+01 1.30000000e+02 1.89000000e+02]\n",
      "   [8.40000000e+01 1.30000000e+02 1.89000000e+02]\n",
      "   [8.35000000e+01 1.29500000e+02 1.88500000e+02]]\n",
      "\n",
      "  [[8.48333359e+01 1.37833328e+02 1.87833328e+02]\n",
      "   [8.58333359e+01 1.38833328e+02 1.88833328e+02]\n",
      "   [8.60000000e+01 1.39000000e+02 1.89000000e+02]\n",
      "   ...\n",
      "   [8.48333359e+01 1.31666672e+02 1.88166672e+02]\n",
      "   [8.40000000e+01 1.30833328e+02 1.87333328e+02]\n",
      "   [8.23333359e+01 1.30833328e+02 1.87333328e+02]]\n",
      "\n",
      "  ...\n",
      "\n",
      "  [[8.33358765e-01 4.00003052e+00 0.00000000e+00]\n",
      "   [5.83332825e+00 9.83332825e+00 1.11666718e+01]\n",
      "   [1.66665649e+00 8.49998474e+00 2.00000000e+00]\n",
      "   ...\n",
      "   [2.48833328e+02 2.17499985e+02 1.36666565e+01]\n",
      "   [2.49833328e+02 2.18499985e+02 1.46666565e+01]\n",
      "   [2.50833328e+02 2.19666656e+02 1.46666565e+01]]\n",
      "\n",
      "  [[5.50000000e+00 1.25000000e+01 0.00000000e+00]\n",
      "   [4.50000000e+00 1.10000000e+01 1.20000000e+01]\n",
      "   [1.00000000e+00 1.05000000e+01 5.00000000e+00]\n",
      "   ...\n",
      "   [2.46000000e+02 2.13000000e+02 1.00000000e+01]\n",
      "   [2.47000000e+02 2.14000000e+02 1.10000000e+01]\n",
      "   [2.49500000e+02 2.16000000e+02 1.15000000e+01]]\n",
      "\n",
      "  [[9.99938965e-01 1.51666565e+01 0.00000000e+00]\n",
      "   [4.83334351e+00 1.71667175e+01 1.11666565e+01]\n",
      "   [3.33312988e-01 1.33333130e+01 3.83328247e+00]\n",
      "   ...\n",
      "   [2.38166595e+02 2.05166595e+02 2.16659546e+00]\n",
      "   [2.39999939e+02 2.06999939e+02 3.99993896e+00]\n",
      "   [2.43999939e+02 2.08999939e+02 4.99993896e+00]]]\n",
      "\n",
      "\n",
      " ...\n",
      "\n",
      "\n",
      " [[[1.07712959e+02 8.22314835e+01 7.03333359e+01]\n",
      "   [1.64722214e+02 1.99833328e+02 1.60777771e+02]\n",
      "   [1.43851837e+02 1.75166656e+02 1.25333321e+02]\n",
      "   ...\n",
      "   [2.41758270e+01 3.82869720e+01 1.51202545e+01]\n",
      "   [1.33888245e+01 3.14721832e+01 3.94438672e+00]\n",
      "   [1.86296291e+01 4.09259338e+01 9.91667175e+00]]\n",
      "\n",
      "  [[1.21194443e+02 1.11166664e+02 7.84166718e+01]\n",
      "   [1.56083328e+02 1.98416656e+02 1.49750000e+02]\n",
      "   [1.04722214e+02 1.39805542e+02 7.49166565e+01]\n",
      "   ...\n",
      "   [2.13054962e+01 3.53610687e+01 1.22221375e+01]\n",
      "   [1.63333130e+01 3.21666565e+01 5.83331299e+00]\n",
      "   [1.75555420e+01 3.59722137e+01 8.97221375e+00]]\n",
      "\n",
      "  [[1.55231476e+02 1.58574081e+02 1.08722229e+02]\n",
      "   [1.64111115e+02 1.88388885e+02 1.21500000e+02]\n",
      "   [1.15499992e+02 1.18009247e+02 6.11666565e+01]\n",
      "   ...\n",
      "   [2.01944523e+01 3.25277863e+01 8.67592812e+00]\n",
      "   [2.26111355e+01 3.52222481e+01 1.09166927e+01]\n",
      "   [2.14814568e+01 3.70370178e+01 1.13610897e+01]]\n",
      "\n",
      "  ...\n",
      "\n",
      "  [[1.21898224e+02 1.73444519e+02 9.76759415e+01]\n",
      "   [1.14055504e+02 1.74749939e+02 5.99999962e+01]\n",
      "   [6.47963028e+01 1.25879631e+02 2.51297588e+01]\n",
      "   ...\n",
      "   [6.30549774e+01 1.04573624e+02 5.77771912e+01]\n",
      "   [3.42501106e+01 8.19724426e+01 3.06946068e+01]\n",
      "   [4.05556831e+01 9.71205750e+01 2.53241634e+01]]\n",
      "\n",
      "  [[1.23000000e+02 1.71166656e+02 9.43888855e+01]\n",
      "   [1.01333328e+02 1.58500000e+02 5.22500000e+01]\n",
      "   [7.62500000e+01 1.34722229e+02 6.20555611e+01]\n",
      "   ...\n",
      "   [6.00551147e+01 1.17805191e+02 5.79161835e+01]\n",
      "   [4.00833893e+01 1.02500061e+02 3.72500763e+01]\n",
      "   [5.14723053e+01 1.17194534e+02 3.85556030e+01]]\n",
      "\n",
      "  [[1.02018402e+02 1.48981384e+02 7.36479645e+01]\n",
      "   [9.90278091e+01 1.51416641e+02 6.79725113e+01]\n",
      "   [9.67316132e+01 1.48472290e+02 8.08796768e+01]\n",
      "   ...\n",
      "   [3.77498665e+01 9.49257889e+01 3.12960873e+01]\n",
      "   [4.32778778e+01 1.02611130e+02 4.07501831e+01]\n",
      "   [5.91019936e+01 1.13657410e+02 5.11853409e+01]]]\n",
      "\n",
      "\n",
      " [[[0.00000000e+00 6.51722260e+01 1.51086105e+02]\n",
      "   [0.00000000e+00 6.53245316e+01 1.51238434e+02]\n",
      "   [0.00000000e+00 6.61674347e+01 1.52081329e+02]\n",
      "   ...\n",
      "   [1.72620356e+00 2.90861111e+01 8.42075500e+01]\n",
      "   [0.00000000e+00 2.58962574e+01 7.77980804e+01]\n",
      "   [0.00000000e+00 2.50081825e+01 8.11859741e+01]]\n",
      "\n",
      "  [[0.00000000e+00 6.80333328e+01 1.52774994e+02]\n",
      "   [0.00000000e+00 6.80333328e+01 1.52774994e+02]\n",
      "   [0.00000000e+00 6.87337952e+01 1.53475464e+02]\n",
      "   ...\n",
      "   [0.00000000e+00 3.02726898e+01 8.85787125e+01]\n",
      "   [0.00000000e+00 2.90652599e+01 8.65666351e+01]\n",
      "   [0.00000000e+00 2.97388954e+01 9.12801132e+01]]\n",
      "\n",
      "  [[0.00000000e+00 7.27222214e+01 1.55430557e+02]\n",
      "   [0.00000000e+00 7.27222214e+01 1.55430557e+02]\n",
      "   [0.00000000e+00 7.27222214e+01 1.55430557e+02]\n",
      "   ...\n",
      "   [0.00000000e+00 3.10795002e+01 9.39483261e+01]\n",
      "   [0.00000000e+00 3.12384109e+01 9.36481247e+01]\n",
      "   [0.00000000e+00 3.05285549e+01 9.80015640e+01]]\n",
      "\n",
      "  ...\n",
      "\n",
      "  [[1.33158066e+02 9.43202515e+01 3.40897632e+00]\n",
      "   [1.16164207e+02 9.32916260e+01 1.31528778e+01]\n",
      "   [6.36690063e+01 1.53384857e+02 1.52118683e+02]\n",
      "   ...\n",
      "   [0.00000000e+00 6.56676710e-01 1.15596008e+01]\n",
      "   [4.74554121e-01 5.47229004e+00 3.64052505e+01]\n",
      "   [0.00000000e+00 1.08457098e+01 5.29313774e+01]]\n",
      "\n",
      "  [[1.25094894e+02 9.24777679e+01 1.99721622e+00]\n",
      "   [1.07791656e+02 8.82916565e+01 1.24583273e+01]\n",
      "   [6.11805344e+01 1.43625000e+02 1.43291672e+02]\n",
      "   ...\n",
      "   [0.00000000e+00 1.11114502e+00 1.07224426e+01]\n",
      "   [8.33343506e-01 6.33337402e+00 3.63334961e+01]\n",
      "   [0.00000000e+00 1.16111145e+01 5.40555725e+01]]\n",
      "\n",
      "  [[1.17402588e+02 8.68749695e+01 1.05239868e-01]\n",
      "   [1.00864319e+02 8.41060028e+01 8.88193417e+00]\n",
      "   [5.60809860e+01 1.38677765e+02 1.38293671e+02]\n",
      "   ...\n",
      "   [0.00000000e+00 1.11114502e+00 1.07224426e+01]\n",
      "   [8.33343506e-01 6.33337402e+00 3.63334961e+01]\n",
      "   [0.00000000e+00 1.16111145e+01 5.40555725e+01]]]\n",
      "\n",
      "\n",
      " [[[1.97657410e+02 2.16884262e+02 2.24314819e+02]\n",
      "   [1.91972214e+02 2.11222229e+02 2.19916656e+02]\n",
      "   [1.98064804e+02 2.13550919e+02 2.25236115e+02]\n",
      "   ...\n",
      "   [2.05449005e+02 2.31282333e+02 2.44199005e+02]\n",
      "   [2.09861221e+02 2.33291641e+02 2.39513947e+02]\n",
      "   [2.10713242e+02 2.29736237e+02 2.41532501e+02]]\n",
      "\n",
      "  [[1.96430557e+02 2.16000000e+02 2.20666672e+02]\n",
      "   [1.92833328e+02 2.11708328e+02 2.25333328e+02]\n",
      "   [1.96986099e+02 2.15333328e+02 2.22458328e+02]\n",
      "   ...\n",
      "   [2.19277756e+02 2.37194397e+02 2.43486099e+02]\n",
      "   [2.29791443e+02 2.41583405e+02 2.45250046e+02]\n",
      "   [2.29875244e+02 2.38569519e+02 2.45305634e+02]]\n",
      "\n",
      "  [[1.94754623e+02 2.18296295e+02 2.25944443e+02]\n",
      "   [1.89458328e+02 2.15180557e+02 2.22902786e+02]\n",
      "   [1.89717590e+02 2.13407410e+02 2.21490738e+02]\n",
      "   ...\n",
      "   [2.27620346e+02 2.37912003e+02 2.40495346e+02]\n",
      "   [2.31805634e+02 2.39000015e+02 2.44805573e+02]\n",
      "   [2.27421173e+02 2.38259262e+02 2.42166672e+02]]\n",
      "\n",
      "  ...\n",
      "\n",
      "  [[1.53305023e+02 1.52702988e+02 5.07257690e+01]\n",
      "   [1.52306396e+02 1.35876007e+02 5.88757744e+01]\n",
      "   [2.58747978e+01 3.92128372e+01 1.88891482e+00]\n",
      "   ...\n",
      "   [2.18106873e+02 2.10986389e+02 1.53903091e+02]\n",
      "   [1.77836334e+02 1.58391647e+02 9.34605408e+01]\n",
      "   [3.04354534e+01 3.71252899e+01 2.12084789e+01]]\n",
      "\n",
      "  [[2.15069443e+02 2.16388885e+02 1.51861115e+02]\n",
      "   [1.13125000e+02 1.11750000e+02 5.35000038e+01]\n",
      "   [1.07875000e+02 8.74027786e+01 6.05555820e+00]\n",
      "   ...\n",
      "   [3.34582672e+01 3.59306030e+01 1.76667328e+01]\n",
      "   [1.71459381e+02 1.65168091e+02 1.19334763e+02]\n",
      "   [3.95419617e+01 4.78890991e+01 2.54306335e+01]]\n",
      "\n",
      "  [[1.71064743e+02 1.74684921e+02 1.04722305e+02]\n",
      "   [8.25683365e+01 7.12770920e+01 6.81943703e+00]\n",
      "   [1.11624733e+02 9.15507889e+01 0.00000000e+00]\n",
      "   ...\n",
      "   [3.71851120e+01 4.46667023e+01 2.55046597e+01]\n",
      "   [4.23606987e+01 4.22771912e+01 2.78325081e+01]\n",
      "   [7.36038895e+01 9.28861389e+01 7.17343216e+01]]]], shape=(32, 180, 180, 3), dtype=float32)\n"
     ]
    }
   ],
   "source": [
    "for images, labels in train_ds.take(1):\n",
    "  print(images)"
   ]
  },
  {
   "cell_type": "markdown",
   "metadata": {
    "id": "Gc7HYyMgkLMf"
   },
   "source": [
    "Checking how many batches are in the set"
   ]
  },
  {
   "cell_type": "code",
   "execution_count": 10,
   "metadata": {
    "colab": {
     "base_uri": "https://localhost:8080/"
    },
    "id": "lTml2N19zHf5",
    "outputId": "b47243df-cd9c-46ca-8534-84c9a6d6edc9"
   },
   "outputs": [
    {
     "name": "stdout",
     "output_type": "stream",
     "text": [
      "(32, 180, 180, 3)\n",
      "(32,)\n"
     ]
    }
   ],
   "source": [
    "for image_batch, labels_batch in train_ds:\n",
    "  print(image_batch.shape)\n",
    "  print(labels_batch.shape)\n",
    "  break"
   ]
  },
  {
   "cell_type": "markdown",
   "metadata": {
    "id": "vCI-nZTXUsxu"
   },
   "source": [
    "Pre Loading the data into the buffer to avoid I/O failiures "
   ]
  },
  {
   "cell_type": "code",
   "execution_count": 11,
   "metadata": {
    "id": "0JAHi3YpzNWs"
   },
   "outputs": [],
   "source": [
    "AUTOTUNE = tf.data.experimental.AUTOTUNE\n",
    "\n",
    "train_ds = train_ds.cache().shuffle(1000).prefetch(buffer_size=AUTOTUNE)\n",
    "val_ds = val_ds.cache().prefetch(buffer_size=AUTOTUNE)"
   ]
  },
  {
   "cell_type": "markdown",
   "metadata": {
    "id": "mp0ynni2VJ36"
   },
   "source": [
    "Augmenting Data like zoom and rotations to make improving the training set"
   ]
  },
  {
   "cell_type": "code",
   "execution_count": 12,
   "metadata": {
    "id": "ovZYTbblzyzP"
   },
   "outputs": [],
   "source": [
    "data_augmentation = keras.Sequential(\n",
    "  [\n",
    "    layers.experimental.preprocessing.RandomFlip(\"horizontal\", \n",
    "                                                 input_shape=(img_height, \n",
    "                                                              img_width,\n",
    "                                                              3)),\n",
    "    layers.experimental.preprocessing.RandomRotation(0.1),\n",
    "    layers.experimental.preprocessing.RandomZoom(0.1),\n",
    "  ]\n",
    ")"
   ]
  },
  {
   "cell_type": "markdown",
   "metadata": {
    "id": "-FtRhRHSXInS"
   },
   "source": [
    "Adding tanh in the first layers improved the accuracy of the model while dropping the layers reduces the overfitting to the data. Flattening reduces the edges in the layers.\n",
    "\n"
   ]
  },
  {
   "cell_type": "code",
   "execution_count": 13,
   "metadata": {
    "id": "oboeJFD6z82B"
   },
   "outputs": [],
   "source": [
    "num_classes = 5\n",
    "model = Sequential([\n",
    "  data_augmentation,\n",
    "  layers.experimental.preprocessing.Rescaling(1./255),\n",
    "\n",
    "  layers.Conv2D(32, 3, padding='same', activation='tanh'),\n",
    "  layers.MaxPooling2D(),\n",
    "  layers.Conv2D(64, 3, padding='same', activation='relu'),\n",
    "  layers.MaxPooling2D(),\n",
    "  layers.Dropout(0.2),\n",
    "  layers.Flatten(),\n",
    "  layers.Dense(128, activation='relu'),\n",
    "  layers.Dense(num_classes)\n",
    "])"
   ]
  },
  {
   "cell_type": "markdown",
   "metadata": {
    "id": "nXT-mQfoXtSu"
   },
   "source": [
    "compile and train the model"
   ]
  },
  {
   "cell_type": "code",
   "execution_count": 14,
   "metadata": {
    "id": "FSBQbdsT0JUM"
   },
   "outputs": [],
   "source": [
    "model.compile(optimizer='adam',\n",
    "              loss=tf.keras.losses.SparseCategoricalCrossentropy(from_logits=True),\n",
    "              metrics=['accuracy'])"
   ]
  },
  {
   "cell_type": "code",
   "execution_count": 15,
   "metadata": {
    "colab": {
     "base_uri": "https://localhost:8080/"
    },
    "id": "vj4rEHX60SkI",
    "outputId": "db0f05b2-e9e2-4e64-8133-7f18e254a011"
   },
   "outputs": [
    {
     "name": "stdout",
     "output_type": "stream",
     "text": [
      "Model: \"sequential_1\"\n",
      "_________________________________________________________________\n",
      "Layer (type)                 Output Shape              Param #   \n",
      "=================================================================\n",
      "sequential (Sequential)      (None, 180, 180, 3)       0         \n",
      "_________________________________________________________________\n",
      "rescaling (Rescaling)        (None, 180, 180, 3)       0         \n",
      "_________________________________________________________________\n",
      "conv2d (Conv2D)              (None, 180, 180, 32)      896       \n",
      "_________________________________________________________________\n",
      "max_pooling2d (MaxPooling2D) (None, 90, 90, 32)        0         \n",
      "_________________________________________________________________\n",
      "conv2d_1 (Conv2D)            (None, 90, 90, 64)        18496     \n",
      "_________________________________________________________________\n",
      "max_pooling2d_1 (MaxPooling2 (None, 45, 45, 64)        0         \n",
      "_________________________________________________________________\n",
      "dropout (Dropout)            (None, 45, 45, 64)        0         \n",
      "_________________________________________________________________\n",
      "flatten (Flatten)            (None, 129600)            0         \n",
      "_________________________________________________________________\n",
      "dense (Dense)                (None, 128)               16588928  \n",
      "_________________________________________________________________\n",
      "dense_1 (Dense)              (None, 5)                 645       \n",
      "=================================================================\n",
      "Total params: 16,608,965\n",
      "Trainable params: 16,608,965\n",
      "Non-trainable params: 0\n",
      "_________________________________________________________________\n"
     ]
    }
   ],
   "source": [
    "model.summary()"
   ]
  },
  {
   "cell_type": "markdown",
   "metadata": {
    "id": "X2YYPoibk1Hb"
   },
   "source": [
    "Defining epochs for the model"
   ]
  },
  {
   "cell_type": "code",
   "execution_count": 16,
   "metadata": {
    "colab": {
     "base_uri": "https://localhost:8080/"
    },
    "id": "OUujmg_Q0Ts9",
    "outputId": "98d43a2d-55c9-4f98-b697-1c048d09d325"
   },
   "outputs": [
    {
     "name": "stdout",
     "output_type": "stream",
     "text": [
      "Epoch 1/15\n",
      "92/92 [==============================] - 128s 1s/step - loss: 2.4766 - accuracy: 0.3047 - val_loss: 1.1769 - val_accuracy: 0.5300\n",
      "Epoch 2/15\n",
      "92/92 [==============================] - 115s 1s/step - loss: 1.1887 - accuracy: 0.5215 - val_loss: 1.0426 - val_accuracy: 0.5722\n",
      "Epoch 3/15\n",
      "92/92 [==============================] - 111s 1s/step - loss: 1.0382 - accuracy: 0.5990 - val_loss: 1.0001 - val_accuracy: 0.5995\n",
      "Epoch 4/15\n",
      "92/92 [==============================] - 115s 1s/step - loss: 0.9441 - accuracy: 0.6295 - val_loss: 0.9490 - val_accuracy: 0.6240\n",
      "Epoch 5/15\n",
      "92/92 [==============================] - 113s 1s/step - loss: 0.9154 - accuracy: 0.6423 - val_loss: 0.9228 - val_accuracy: 0.6362\n",
      "Epoch 6/15\n",
      "92/92 [==============================] - 115s 1s/step - loss: 0.8266 - accuracy: 0.6839 - val_loss: 0.9091 - val_accuracy: 0.6444\n",
      "Epoch 7/15\n",
      "92/92 [==============================] - 121s 1s/step - loss: 0.8018 - accuracy: 0.6941 - val_loss: 0.9846 - val_accuracy: 0.6185\n",
      "Epoch 8/15\n",
      "92/92 [==============================] - 126s 1s/step - loss: 0.7540 - accuracy: 0.7057 - val_loss: 0.9216 - val_accuracy: 0.6649\n",
      "Epoch 9/15\n",
      "92/92 [==============================] - 122s 1s/step - loss: 0.7441 - accuracy: 0.7110 - val_loss: 0.8058 - val_accuracy: 0.6880\n",
      "Epoch 10/15\n",
      "92/92 [==============================] - 126s 1s/step - loss: 0.7253 - accuracy: 0.7245 - val_loss: 0.8530 - val_accuracy: 0.6676\n",
      "Epoch 11/15\n",
      "92/92 [==============================] - 129s 1s/step - loss: 0.6878 - accuracy: 0.7409 - val_loss: 0.8663 - val_accuracy: 0.6649\n",
      "Epoch 12/15\n",
      "92/92 [==============================] - 126s 1s/step - loss: 0.6860 - accuracy: 0.7434 - val_loss: 0.8038 - val_accuracy: 0.7016\n",
      "Epoch 13/15\n",
      "92/92 [==============================] - 78s 845ms/step - loss: 0.6523 - accuracy: 0.7441 - val_loss: 0.8284 - val_accuracy: 0.6935\n",
      "Epoch 14/15\n",
      "92/92 [==============================] - 68s 738ms/step - loss: 0.6266 - accuracy: 0.7544 - val_loss: 0.8852 - val_accuracy: 0.6730\n",
      "Epoch 15/15\n",
      "92/92 [==============================] - 64s 699ms/step - loss: 0.5914 - accuracy: 0.7756 - val_loss: 0.7958 - val_accuracy: 0.7098\n"
     ]
    }
   ],
   "source": [
    "epochs = 15\n",
    "history = model.fit(\n",
    "  train_ds,\n",
    "  validation_data=val_ds,\n",
    "  epochs=epochs\n",
    ")"
   ]
  },
  {
   "cell_type": "markdown",
   "metadata": {
    "id": "aw_gedQQXxdI"
   },
   "source": [
    "visualize the results"
   ]
  },
  {
   "cell_type": "code",
   "execution_count": 17,
   "metadata": {
    "colab": {
     "base_uri": "https://localhost:8080/",
     "height": 499
    },
    "id": "Q6S4-FXdMdWT",
    "outputId": "01f77777-97ec-4ea5-af43-feba7d29e617"
   },
   "outputs": [
    {
     "data": {
      "image/png": "[encoded data removed]",
      "text/plain": [
       "<Figure size 576x576 with 2 Axes>"
      ]
     },
     "metadata": {
      "needs_background": "light"
     },
     "output_type": "display_data"
    }
   ],
   "source": [
    "acc = history.history['accuracy']\n",
    "val_acc = history.history['val_accuracy']\n",
    "\n",
    "loss = history.history['loss']\n",
    "val_loss = history.history['val_loss']\n",
    "\n",
    "epochs_range = range(epochs)\n",
    "\n",
    "plt.figure(figsize=(8, 8))\n",
    "plt.subplot(1, 2, 1)\n",
    "plt.plot(epochs_range, acc, label='Training Accuracy')\n",
    "plt.plot(epochs_range, val_acc, label='Validation Accuracy')\n",
    "plt.legend(loc='lower right')\n",
    "plt.title('Training and Validation Accuracy')\n",
    "\n",
    "plt.subplot(1, 2, 2)\n",
    "plt.plot(epochs_range, loss, label='Training Loss')\n",
    "plt.plot(epochs_range, val_loss, label='Validation Loss')\n",
    "plt.legend(loc='upper right')\n",
    "plt.title('Training and Validation Loss')\n",
    "plt.show()"
   ]
  },
  {
   "cell_type": "markdown",
   "metadata": {
    "id": "92p2V77YX_yS"
   },
   "source": [
    "Predict on new data\n",
    "\n",
    "Finally, let's use our model to classify an image that wasn't included in the training or validation sets."
   ]
  },
  {
   "cell_type": "code",
   "execution_count": 18,
   "metadata": {
    "id": "A3VJswaPdv7o"
   },
   "outputs": [],
   "source": [
    "def read_image_file_test(url ,name):\n",
    "  path = tf.keras.utils.get_file(name, origin=url)\n",
    "  img = keras.preprocessing.image.load_img(\n",
    "      path, target_size=(img_height, img_width)\n",
    "  )\n",
    "  img_array = keras.preprocessing.image.img_to_array(img)\n",
    "  img_array = tf.expand_dims(img_array, 0) # Create a batch\n",
    "\n",
    "  predictions = model.predict(img_array)\n",
    "  score = tf.nn.softmax(predictions[0])\n",
    "\n",
    "  print(\n",
    "      \"This image most likely belongs to {} with a {:.2f} percent confidence.\"\n",
    "      .format(class_names[np.argmax(score)], 100 * np.max(score))\n",
    "  )"
   ]
  },
  {
   "cell_type": "code",
   "execution_count": 19,
   "metadata": {
    "colab": {
     "base_uri": "https://localhost:8080/"
    },
    "id": "eeaHXGdz0ZO-",
    "outputId": "2a7d1120-1e2b-4590-b9fa-350e468ac565"
   },
   "outputs": [
    {
     "name": "stdout",
     "output_type": "stream",
     "text": [
      "Downloading data from https://cdn.webshopapp.com/shops/108044/files/360129626/650x750x1/tulipa-french-rubies.jpg\n",
      "106496/104772 [==============================] - 0s 2us/step\n",
      "This image most likely belongs to tulips with a 68.64 percent confidence.\n"
     ]
    }
   ],
   "source": [
    "url='https://cdn.webshopapp.com/shops/108044/files/360129626/650x750x1/tulipa-french-rubies.jpg'\n",
    "name='tlps'\n",
    "read_image_file_test(url ,name)"
   ]
  },
  {
   "cell_type": "code",
   "execution_count": 20,
   "metadata": {
    "colab": {
     "base_uri": "https://localhost:8080/"
    },
    "id": "eLuXSHXVhNxf",
    "outputId": "dfcef5f9-745a-44a8-e4fb-17f909c7c326"
   },
   "outputs": [
    {
     "name": "stdout",
     "output_type": "stream",
     "text": [
      "Downloading data from https://www.flowerwatch.com/assets/files/leader/rozen.jpg\n",
      "417792/415058 [==============================] - 1s 1us/step\n",
      "This image most likely belongs to roses with a 80.95 percent confidence.\n"
     ]
    }
   ],
   "source": [
    "url='https://www.flowerwatch.com/assets/files/leader/rozen.jpg'\n",
    "name='rse'\n",
    "read_image_file_test(url ,name)"
   ]
  },
  {
   "cell_type": "code",
   "execution_count": 21,
   "metadata": {
    "colab": {
     "base_uri": "https://localhost:8080/"
    },
    "id": "L5y4rkcKiXp_",
    "outputId": "e665b235-db02-4d6e-f873-7b54a03f62ba"
   },
   "outputs": [
    {
     "name": "stdout",
     "output_type": "stream",
     "text": [
      "Downloading data from https://www.wkbn.com/wp-content/uploads/sites/48/2021/03/close-up-of-a-dandelion.jpg\n",
      "57344/56979 [==============================] - 0s 6us/step\n",
      "This image most likely belongs to dandelion with a 61.37 percent confidence.\n"
     ]
    }
   ],
   "source": [
    "url='https://www.wkbn.com/wp-content/uploads/sites/48/2021/03/close-up-of-a-dandelion.jpg'\n",
    "name='dnd'\n",
    "read_image_file_test(url ,name)"
   ]
  },
  {
   "cell_type": "code",
   "execution_count": 22,
   "metadata": {
    "colab": {
     "base_uri": "https://localhost:8080/"
    },
    "id": "b4uPjdC6riYd",
    "outputId": "a410352c-08e1-423a-ef62-d5e0f3df191f"
   },
   "outputs": [
    {
     "name": "stdout",
     "output_type": "stream",
     "text": [
      "Downloading data from https://dbdzm869oupei.cloudfront.net/img/vinylrugs/preview/43492.png\n",
      "548864/540683 [==============================] - 0s 1us/step\n",
      "This image most likely belongs to daisy with a 57.44 percent confidence.\n"
     ]
    }
   ],
   "source": [
    "url='https://dbdzm869oupei.cloudfront.net/img/vinylrugs/preview/43492.png'\n",
    "name='dsy'\n",
    "read_image_file_test(url ,name)"
   ]
  },
  {
   "cell_type": "code",
   "execution_count": 23,
   "metadata": {
    "colab": {
     "base_uri": "https://localhost:8080/"
    },
    "id": "ujSY8xkMrvoM",
    "outputId": "cdf34bc5-2f4c-4c74-f4eb-b590a8dcd790"
   },
   "outputs": [
    {
     "name": "stdout",
     "output_type": "stream",
     "text": [
      "Downloading data from https://www.gardeningknowhow.com/wp-content/uploads/2020/11/yellow-sunflower-field.jpg\n",
      "1327104/1326051 [==============================] - 0s 0us/step\n",
      "This image most likely belongs to sunflowers with a 99.94 percent confidence.\n"
     ]
    }
   ],
   "source": [
    "url='https://www.gardeningknowhow.com/wp-content/uploads/2020/11/yellow-sunflower-field.jpg'\n",
    "name='snf'\n",
    "read_image_file_test(url ,name)"
   ]
  },
  {
   "cell_type": "code",
   "execution_count": null,
   "metadata": {},
   "outputs": [],
   "source": []
  }
 ],
 "metadata": {
  "accelerator": "GPU",
  "colab": {
   "name": "ICP5.ipynb",
   "provenance": []
  },
  "kernelspec": {
   "display_name": "Python 3",
   "language": "python",
   "name": "python3"
  },
  "language_info": {
   "codemirror_mode": {
    "name": "ipython",
    "version": 3
   },
   "file_extension": ".py",
   "mimetype": "text/x-python",
   "name": "python",
   "nbconvert_exporter": "python",
   "pygments_lexer": "ipython3",
   "version": "3.7.3"
  }
 },
 "nbformat": 4,
 "nbformat_minor": 1
}
