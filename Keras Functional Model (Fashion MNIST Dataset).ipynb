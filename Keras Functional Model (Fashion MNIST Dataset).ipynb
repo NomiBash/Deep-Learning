{
 "cells": [
  {
   "cell_type": "code",
   "execution_count": 2,
   "id": "d4879e3a",
   "metadata": {},
   "outputs": [],
   "source": [
    "import tensorflow as tf\n",
    "from tensorflow.keras.datasets import fashion_mnist\n",
    "import matplotlib.pyplot as plt\n",
    "import random"
   ]
  },
  {
   "cell_type": "code",
   "execution_count": 3,
   "id": "4d9fa515",
   "metadata": {},
   "outputs": [
    {
     "name": "stdout",
     "output_type": "stream",
     "text": [
      "---------------------\n",
      "x_train :  (60000, 28, 28)\n",
      "y_train :  (60000,)\n",
      "x_test :  (10000, 28, 28)\n",
      "y_test :  (10000,)\n"
     ]
    }
   ],
   "source": [
    "(x_train, y_train), (x_test, y_test) = fashion_mnist.load_data()\n",
    "print(\"---------------------\")\n",
    "print(\"x_train : \", x_train.shape)\n",
    "print(\"y_train : \", y_train.shape)\n",
    "print(\"x_test : \", x_test.shape)\n",
    "print(\"y_test : \", y_test.shape)"
   ]
  },
  {
   "cell_type": "code",
   "execution_count": 4,
   "id": "91ebd5e2",
   "metadata": {},
   "outputs": [],
   "source": [
    "# create label list\n",
    "labels = [\"T-shirt\",\"Trouser\", \"Pullover\", \"Dress\", \"Coat\", \"Sandal\", \"Shirt\", \"Sneaker\", \"Bag\" ,\"Ankle boot\"]"
   ]
  },
  {
   "cell_type": "code",
   "execution_count": 6,
   "id": "ebcde3a5",
   "metadata": {},
   "outputs": [
    {
     "data": {
      "text/plain": [
       "Text(0.5, 1.0, 'T-shirt')"
      ]
     },
     "execution_count": 6,
     "metadata": {},
     "output_type": "execute_result"
    },
    {
     "data": {
      "image/png": "[encoded data removed]",
      "text/plain": [
       "<Figure size 432x288 with 2 Axes>"
      ]
     },
     "metadata": {
      "needs_background": "light"
     },
     "output_type": "display_data"
    }
   ],
   "source": [
    "rand = random.randint(0,10) # generate random numbers between 0-10.\n",
    "image = x_train[rand]\n",
    "plt.figure()\n",
    "plt.imshow(image)\n",
    "plt.colorbar()\n",
    "plt.title(labels[y_train[rand]])"
   ]
  },
  {
   "cell_type": "code",
   "execution_count": 7,
   "id": "b38f20e0",
   "metadata": {},
   "outputs": [
    {
     "name": "stdout",
     "output_type": "stream",
     "text": [
      "(60000, 784)\n",
      "(10000, 784)\n"
     ]
    }
   ],
   "source": [
    "x_train = x_train.reshape(-1,28*28).astype(\"float32\")/255.0\n",
    "x_test = x_test.reshape(-1,28*28).astype(\"float32\")/255.0\n",
    "print(x_train.shape)\n",
    "print(x_test.shape)"
   ]
  },
  {
   "cell_type": "code",
   "execution_count": 8,
   "id": "e22519e2",
   "metadata": {},
   "outputs": [
    {
     "name": "stdout",
     "output_type": "stream",
     "text": [
      "Model: \"model\"\n",
      "_________________________________________________________________\n",
      "Layer (type)                 Output Shape              Param #   \n",
      "=================================================================\n",
      "input_layer (InputLayer)     [(None, 784)]             0         \n",
      "_________________________________________________________________\n",
      "first_layer (Dense)          (None, 512)               401920    \n",
      "_________________________________________________________________\n",
      "second_layer (Dense)         (None, 256)               131328    \n",
      "_________________________________________________________________\n",
      "third_layer (Dense)          (None, 128)               32896     \n",
      "_________________________________________________________________\n",
      "output_layer (Dense)         (None, 10)                1290      \n",
      "=================================================================\n",
      "Total params: 567,434\n",
      "Trainable params: 567,434\n",
      "Non-trainable params: 0\n",
      "_________________________________________________________________\n"
     ]
    }
   ],
   "source": [
    "def create_model():\n",
    "    inputs = tf.keras.Input(shape=28*28, name=\"input_layer\")\n",
    "    x = tf.keras.layers.Dense(512, activation=\"relu\", name=\"first_layer\")(inputs)                                           \n",
    "    x = tf.keras.layers.Dense(256, activation=\"relu\", name=\"second_layer\")(x)\n",
    "    x = tf.keras.layers.Dense(128, activation=\"relu\", name=\"third_layer\")(x)\n",
    "    outputs = tf.keras.layers.Dense(10, activation=\"softmax\", name=\"output_layer\")(x)\n",
    "\n",
    "    model = tf.keras.Model(inputs = inputs, outputs = outputs)\n",
    "    return model\n",
    "\n",
    "model = create_model()\n",
    "model.summary()"
   ]
  },
  {
   "cell_type": "code",
   "execution_count": 18,
   "id": "9c40027f",
   "metadata": {},
   "outputs": [
    {
     "name": "stdout",
     "output_type": "stream",
     "text": [
      "Epoch 1/20\n",
      "938/938 [==============================] - 5s 5ms/step - loss: 27.6101 - accuracy: 0.0983 - val_loss: 27.6100 - val_accuracy: 0.1341\n",
      "Epoch 2/20\n",
      "938/938 [==============================] - 5s 5ms/step - loss: 27.6100 - accuracy: 0.0991 - val_loss: 27.6100 - val_accuracy: 0.1157\n",
      "Epoch 3/20\n",
      "938/938 [==============================] - 5s 5ms/step - loss: 27.6100 - accuracy: 0.1004 - val_loss: 27.6100 - val_accuracy: 0.0996\n",
      "Epoch 4/20\n",
      "938/938 [==============================] - 5s 5ms/step - loss: 27.6100 - accuracy: 0.0987 - val_loss: 27.6100 - val_accuracy: 0.0895\n",
      "Epoch 5/20\n",
      "938/938 [==============================] - 5s 5ms/step - loss: 27.6101 - accuracy: 0.0972 - val_loss: 27.6100 - val_accuracy: 0.0900\n",
      "Epoch 6/20\n",
      "938/938 [==============================] - 5s 5ms/step - loss: 27.6100 - accuracy: 0.0976 - val_loss: 27.6100 - val_accuracy: 0.0667\n",
      "Epoch 7/20\n",
      "938/938 [==============================] - 5s 5ms/step - loss: 27.6100 - accuracy: 0.0985 - val_loss: 27.6100 - val_accuracy: 0.0735\n",
      "Epoch 8/20\n",
      "938/938 [==============================] - 5s 5ms/step - loss: 27.6100 - accuracy: 0.0987 - val_loss: 27.6100 - val_accuracy: 0.1058\n",
      "Epoch 9/20\n",
      "938/938 [==============================] - 5s 5ms/step - loss: 27.6101 - accuracy: 0.0972 - val_loss: 27.6100 - val_accuracy: 0.0535\n",
      "Epoch 10/20\n",
      "938/938 [==============================] - 5s 5ms/step - loss: 27.6100 - accuracy: 0.0979 - val_loss: 27.6100 - val_accuracy: 0.1050\n",
      "Epoch 11/20\n",
      "938/938 [==============================] - 5s 5ms/step - loss: 27.6100 - accuracy: 0.1025 - val_loss: 27.6100 - val_accuracy: 0.0728\n",
      "Epoch 12/20\n",
      "938/938 [==============================] - 5s 5ms/step - loss: 27.6100 - accuracy: 0.0984 - val_loss: 27.6100 - val_accuracy: 0.1470\n",
      "Epoch 13/20\n",
      "938/938 [==============================] - 5s 5ms/step - loss: 27.6100 - accuracy: 0.0971 - val_loss: 27.6100 - val_accuracy: 0.0737\n",
      "Epoch 14/20\n",
      "938/938 [==============================] - 5s 5ms/step - loss: 27.6100 - accuracy: 0.0978 - val_loss: 27.6100 - val_accuracy: 0.0591\n",
      "Epoch 15/20\n",
      "938/938 [==============================] - 5s 5ms/step - loss: 27.6100 - accuracy: 0.0990 - val_loss: 27.6100 - val_accuracy: 0.0728\n",
      "Epoch 16/20\n",
      "938/938 [==============================] - 5s 5ms/step - loss: 27.6100 - accuracy: 0.0976 - val_loss: 27.6100 - val_accuracy: 0.0997\n",
      "Epoch 17/20\n",
      "938/938 [==============================] - 5s 5ms/step - loss: 27.6100 - accuracy: 0.0983 - val_loss: 27.6100 - val_accuracy: 0.0990\n",
      "Epoch 18/20\n",
      "938/938 [==============================] - 5s 5ms/step - loss: 27.6100 - accuracy: 0.0973 - val_loss: 27.6100 - val_accuracy: 0.0818\n",
      "Epoch 19/20\n",
      "938/938 [==============================] - 5s 5ms/step - loss: 27.6100 - accuracy: 0.0967 - val_loss: 27.6100 - val_accuracy: 0.0929\n",
      "Epoch 20/20\n",
      "938/938 [==============================] - 5s 5ms/step - loss: 27.6100 - accuracy: 0.1008 - val_loss: 27.6100 - val_accuracy: 0.0999s: 27.5869 - \n"
     ]
    },
    {
     "data": {
      "text/plain": [
       "<keras.callbacks.History at 0x20927af8580>"
      ]
     },
     "execution_count": 18,
     "metadata": {},
     "output_type": "execute_result"
    }
   ],
   "source": [
    "model.compile(optimizer=\"adam\", loss=\"mse\", metrics=[\"accuracy\"])\n",
    "\n",
    "model.fit(x_train, y_train, batch_size=64, epochs=20, validation_data=(x_test, y_test))"
   ]
  },
  {
   "cell_type": "code",
   "execution_count": 15,
   "id": "a64dfc63",
   "metadata": {},
   "outputs": [
    {
     "name": "stdout",
     "output_type": "stream",
     "text": [
      "val_accuracy :  0.15459999442100525\n"
     ]
    }
   ],
   "source": [
    "loss_value, val_accuracy = model.evaluate(x_test, y_test, batch_size=32, verbose=0)\n",
    "print(\"val_accuracy : \", val_accuracy)"
   ]
  },
  {
   "cell_type": "code",
   "execution_count": null,
   "id": "b8832595",
   "metadata": {},
   "outputs": [],
   "source": []
  }
 ],
 "metadata": {
  "kernelspec": {
   "display_name": "Python 3",
   "language": "python",
   "name": "python3"
  },
  "language_info": {
   "codemirror_mode": {
    "name": "ipython",
    "version": 3
   },
   "file_extension": ".py",
   "mimetype": "text/x-python",
   "name": "python",
   "nbconvert_exporter": "python",
   "pygments_lexer": "ipython3",
   "version": "3.8.8"
  }
 },
 "nbformat": 4,
 "nbformat_minor": 5
}
